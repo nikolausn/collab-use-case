{
 "cells": [
  {
   "cell_type": "code",
   "execution_count": null,
   "id": "e78bcb8c",
   "metadata": {},
   "outputs": [],
   "source": [
    "import sys\n",
    "#!{sys.executable} -m pip install pandas"
   ]
  },
  {
   "cell_type": "code",
   "execution_count": 1,
   "id": "8e0e000a",
   "metadata": {},
   "outputs": [],
   "source": [
    "import pandas as pd\n",
    "import numpy as np\n",
    "import abydos\n",
    "from abydos import distance"
   ]
  },
  {
   "cell_type": "markdown",
   "id": "7989f108",
   "metadata": {},
   "source": [
    "# General Instruction\n",
    "\n",
    "- Cleanup dataset based on the information that is given:\n",
    "You need to clean the dataset according to the information that is given to you. This means that there are problems with the dataset that need to be fixed, and you should use the information given to you to determine what those problems are and how to fix them.\n",
    "\n",
    "- Each case has different data quality problems, there will be hint and additional information that can help you understand the problem:\n",
    "Each row in the dataset may have different data quality problems. There will be hints and additional information provided to help you understand what the specific problem is with each row.\n",
    "\n",
    "- You can do any approach on cleaning the data, but you should clean the instructed column only:\n",
    "You have the freedom to use any approach to clean the data, but you should only clean the instructed column. This means that you should not modify any other columns in the dataset, or add or remove any rows.\n",
    "\n",
    "- Do not create new column or remove any column. Also do not create new row, or remove any row:\n",
    "- You are not allowed to create new columns or remove any columns from the dataset. You are also not allowed to add or remove any rows.\n",
    "\n",
    "- Each column will have a flag column something equivalent to <column\\_name>\\_flag. This column can be used to flag the row if you want to not include it to the downstream task. 0: safe_flag, 1: delete_flag, 2: null_flag (if you want to still include the row with null treatment). You can also add a new category but please add justification and explanation of the new category, there are three categories you can use:\n",
    "safe_flag (0): this row is safe to use in downstream tasks\n",
    "delete_flag (1): this row should be deleted and not used in downstream tasks\n",
    "null_flag (2): this row can be included in downstream tasks but with null treatment.\n",
    "You can also add a new category, but you need to provide a justification and an explanation for the new category. It is worth to note that the completeness of the dataset is also matter, so try not to flag to many things, and do your best to clean the values.\n",
    "\n",
    "- For each data cleaning task, we have provided a function that represents the goal of the cleaning. For example, clean_duplicate_id(df) is the function for removing duplicate ID values. These functions take a DataFrame as input and return the cleaned version of the DataFrame.\n",
    "\n",
    "    In each chunk of data cleaning task, you will see the following three parts:\n",
    "\n",
    "    1. The clean_<name> function that performs the specific cleaning task.\n",
    "    2. The execution of the cleaning function on the DataFrame.\n",
    "    3. A checking part to help you evaluate the effectiveness of the cleaning.\n",
    "    \n",
    "  While you can create new cells and add additional code, the cleaning must be performed through the provided cleaning functions. You can adjust the order of the cleaning steps, but please try to move the whole chunks of code to avoid any errors.\n",
    "\n",
    "The cleaning task will be considered complete if this notebook can be run sequentially by executing \"restart and runall\"\n",
    "\n",
    "\n"
   ]
  },
  {
   "cell_type": "markdown",
   "id": "c9589564",
   "metadata": {},
   "source": [
    "# Purpose\n",
    "The purpose of this dataset is to conduct exploratory analysis of the listings and create a prediction model for listing price using some columns from the dataset. This means that the dataset is intended to be used to explore the characteristics and features of the listings, and to build a model that can predict the price of a listing based on certain variables in the dataset. The goal is to gain insights into the factors that influence the price of a listing and to develop a model that can accurately predict listing prices based on those factors."
   ]
  },
  {
   "cell_type": "markdown",
   "id": "d3ccf81f",
   "metadata": {},
   "source": [
    "# Columns and Dataset Description\n",
    "- id: a unique identifier for each listing.\n",
    "- name: the name or title of the listing, as provided by the host.\n",
    "- host_id: a unique identifier for each host.\n",
    "- host_name: the name of the host who listed the property.\n",
    "- neighbourhood_group: the larger geographic area in which the listing is located (e.g. a borough or group of neighborhoods).\n",
    "- neighbourhood: the specific neighborhood in which the listing is located.\n",
    "- latitude: the latitude coordinate of the listing.\n",
    "- longitude: the longitude coordinate of the listing.\n",
    "- room_type: the type of space that is being listed (e.g. an entire apartment, a private room, a shared room).\n",
    "- price: the nightly price of the listing, in the currency specified in the dataset.\n",
    "- minimum_nights: the minimum number of nights that a guest must book the listing for.\n",
    "- number_of_reviews: the total number of reviews that the listing has received.\n",
    "- last_review: the date of the most recent review of the listing.\n",
    "- reviews_per_month: the average number of reviews per month that the listing has received.\n",
    "- calculated_host_listings_count: the total number of listings that the host has on Airbnb.\n",
    "- availability_365: the number of days per year that the listing is available for booking.\n",
    "- number_of_reviews_ltm: the total number of reviews that the listing has received in the last 12 months.\n",
    "- license: a license number for the listing, if applicable (this column may not be present in all versions of the dataset).\n",
    "\n",
    "Besides the columns above, there are columns pre-defined for flagging the rows based on particular data cleaning context:\n",
    "- id_flag: a flag column indicating whether a given row should be included in downstream analysis or not based on data quality issues related to the id column (duplicate).\n",
    "- host_id_flag: a flag column indicating whether a given row should be included in downstream analysis or not based on data quality issues related to the host_id column.\n",
    "- neighbourhood_flag: a flag column indicating whether a given row should be included in downstream analysis or not based on data quality issues related to the neighbourhood column.\n",
    "- latitude_flag: a flag column indicating whether a given row should be included in downstream analysis or not based on data quality issues related to the latitude column.\n",
    "- longitude_flag: a flag column indicating whether a given row should be included in downstream analysis or not based on data quality issues related to the longitude column.\n",
    "- minimum_nights_flag: a flag column indicating whether a given row should be included in downstream analysis or not based on data quality issues related to the minimum_nights column.\n",
    "- number_of_reviews_flag: a flag column indicating whether a given row should be included in downstream analysis or not based on data quality issues related to the number_of_reviews column.\n",
    "- last_review_flag: a flag column indicating whether a given row should be included in downstream analysis or not based on data quality issues related to the last_review column.\n",
    "- room_type_flag: a flag column indicating whether a given row should be included in downstream analysis or not based on data quality issues related to the room_type column."
   ]
  },
  {
   "cell_type": "markdown",
   "id": "2d9f5686",
   "metadata": {},
   "source": [
    "# Load Data"
   ]
  },
  {
   "cell_type": "code",
   "execution_count": 2,
   "id": "198f0224",
   "metadata": {},
   "outputs": [],
   "source": [
    "airbnb_pd = pd.read_csv(\"chicago_vert_dataset.csv\")"
   ]
  },
  {
   "cell_type": "code",
   "execution_count": null,
   "id": "e5d14ef9",
   "metadata": {},
   "outputs": [],
   "source": [
    "airbnb_pd.neighbourhood.unique()"
   ]
  },
  {
   "cell_type": "code",
   "execution_count": null,
   "id": "22199e96",
   "metadata": {},
   "outputs": [],
   "source": [
    "airbnb_pd.head()"
   ]
  },
  {
   "cell_type": "code",
   "execution_count": null,
   "id": "c117c784",
   "metadata": {},
   "outputs": [],
   "source": [
    "airbnb_pd.describe()"
   ]
  },
  {
   "cell_type": "markdown",
   "id": "424bb82f",
   "metadata": {},
   "source": [
    "# cleanup duplicate id\n",
    "The ID column must contain unique values. If there are any duplicate values in this column, you will need to take action to ensure that each ID is unique. You can do this by either fixing the duplicates (if you want to keep them) or by flagging them for removal (1) using the id_flag column."
   ]
  },
  {
   "cell_type": "code",
   "execution_count": null,
   "id": "579b7d34",
   "metadata": {},
   "outputs": [],
   "source": [
    "def clean_duplicate_id(df):\n",
    "    #raise Exception(\"not yet have implementation\")\n",
    "    # do something here\n",
    "    df[\"id_flag\"] = df.duplicated(subset=[\"id\"], keep=\"first\").astype(int)\n",
    "    return df"
   ]
  },
  {
   "cell_type": "code",
   "execution_count": null,
   "id": "9f77201d",
   "metadata": {},
   "outputs": [],
   "source": [
    "airbnb_pd = clean_duplicate_id(airbnb_pd)"
   ]
  },
  {
   "cell_type": "code",
   "execution_count": null,
   "id": "88dfe169",
   "metadata": {},
   "outputs": [],
   "source": [
    "# Check id_flag\n",
    "airbnb_pd[\"id_flag\"].value_counts()"
   ]
  },
  {
   "cell_type": "markdown",
   "id": "a0e58774",
   "metadata": {},
   "source": [
    "# Duplicate IDS checking \n",
    "To ensure that all ID values in the dataset are unique, you should check for duplicate IDs. When you run the query to check for duplicates, there should be no rows returned, indicating that there are no duplicate ID values present in the dataset."
   ]
  },
  {
   "cell_type": "code",
   "execution_count": null,
   "id": "8742733d",
   "metadata": {},
   "outputs": [],
   "source": [
    "dup_ids = airbnb_pd[airbnb_pd.id_flag==0]\n",
    "dup_ids = dup_ids.groupby(\"id\").count()[[\"name\"]].reset_index()\n",
    "dup_ids = dup_ids[dup_ids.name>1]\n",
    "dup_ids"
   ]
  },
  {
   "cell_type": "markdown",
   "id": "7e62bc19",
   "metadata": {},
   "source": [
    "# cleanup inconsistent host id\n",
    "Each host_id value in the dataset should be associated with only one host_name. However, there may be inconsistencies in the dataset where a host_id is associated with different host_name values.\n",
    "\n",
    "To clean this up, you can either change the host_name value to a consistent value based on information in the dataset, or flag the host_id_flag column to indicate that the row should be removed from downstream tasks.\n",
    "\n",
    "For example, if you find that a host_id is associated with multiple host_name values, you may want to investigate further to determine which host_name is correct. If one of the host_name values is clearly incorrect (e.g., a misspelling or a name that does not match the owner of the property), you could update the host_name value to the correct value.\n",
    "\n",
    "Alternatively, if you cannot determine the correct host_name value, or if you want to exclude the row from downstream tasks for other reasons, you can flag the host_id_flag column with a value of 1 to indicate that the row should be removed."
   ]
  },
  {
   "cell_type": "code",
   "execution_count": null,
   "id": "4a3e53b5",
   "metadata": {},
   "outputs": [],
   "source": [
    "def clean_host_id(df):\n",
    "    #raise Exception(\"not yet have implementation\")\n",
    "    # do something here\n",
    "    \n",
    "    \n",
    "    return df"
   ]
  },
  {
   "cell_type": "code",
   "execution_count": null,
   "id": "98ac9070",
   "metadata": {},
   "outputs": [],
   "source": [
    "airbnb_pd = clean_host_id(airbnb_pd)"
   ]
  },
  {
   "cell_type": "markdown",
   "id": "31c3a951",
   "metadata": {},
   "source": [
    "# Inconsistent Host ID checking \n",
    "\n",
    "This query should return zero rows once you implement the cleaning process"
   ]
  },
  {
   "cell_type": "code",
   "execution_count": null,
   "id": "03336693",
   "metadata": {},
   "outputs": [],
   "source": [
    "airbnb_pd[airbnb_pd.host_id==483146]"
   ]
  },
  {
   "cell_type": "code",
   "execution_count": null,
   "id": "e3d11a6d",
   "metadata": {
    "scrolled": false
   },
   "outputs": [],
   "source": [
    "dup_host_id = airbnb_pd[airbnb_pd.host_id_flag==0]\n",
    "dup_host_id = dup_host_id.groupby([\"host_id\",\"host_name\"]).count()[[\"id\"]].reset_index()\n",
    "dup_host_id = dup_host_id.groupby(\"host_id\").count()[\"id\"].reset_index()\n",
    "dup_host_id[dup_host_id[\"id\"]>1]"
   ]
  },
  {
   "cell_type": "markdown",
   "id": "dd3bc0a4",
   "metadata": {},
   "source": [
    "# cleanup neighbourhood\n",
    "The neighbourhood column in the dataset should contain values that match the neighbourhoods defined in the official neighbourhood_list. However, there may be some values in the neighbourhood column that are incorrect due to errors or noise in the data.\n",
    "\n",
    "To clean up the neighbourhood column, you can try to match each value in the column to a valid neighbourhood in the neighbourhood_list using a string distance function such as abydos. If you can successfully match a value in the neighbourhood column to a neighbourhood in the neighbourhood_list, you can replace the value in the dataset with the correct neighbourhood name.\n",
    "\n",
    "However, if you are unsure about how to clean up a particular value in the neighbourhood column, or if you cannot match the value to a valid neighbourhood in the neighbourhood_list, you can flag the row for deletion by setting the neighbourhood_flag column to a value of 1. If the value in the neighbourhood column is null and you cannot make a determination based on other information in the dataset, you can set the neighbourhood_flag column to a value of 2 to indicate that the row should be included but the neighbourhood value is null.\n",
    "\n",
    "You can also use the latitude and longitude columns in the dataset to help match values in the neighbourhood column to valid neighbourhoods in the neighbourhood_list. However, you should be aware that the latitude and longitude values may also contain errors or noise, so you should exercise caution when using these columns to clean up the neighbourhood column."
   ]
  },
  {
   "cell_type": "code",
   "execution_count": null,
   "id": "94a691d6",
   "metadata": {},
   "outputs": [],
   "source": [
    "neighbourhood_list = [ 'Hyde Park', 'West Town', 'Lincoln Park', 'Near West Side', 'Lake View',    'Dunning', 'Rogers Park', 'Logan Square', 'Uptown', 'Edgewater',    'North Center', 'Albany Park', 'West Ridge', 'Pullman', 'Irving Park',    'Beverly', 'Lower West Side', 'Near South Side', 'Near North Side',    'Grand Boulevard', 'Bridgeport', 'Humboldt Park', 'Chatham', 'Kenwood',    'Loop', 'West Lawn', 'Lincoln Square', 'Woodlawn', 'Avondale',    'Forest Glen', 'Portage Park', 'East Garfield Park', 'Washington Park',    'North Lawndale', 'Armour Square', 'South Lawndale', 'South Shore',    'Morgan Park', 'South Deering', 'West Garfield Park', 'Hermosa',    'Mckinley Park', 'Douglas', 'Hegewisch', 'West Elsdon', 'Norwood Park',    'Garfield Ridge', 'Austin', 'Belmont Cragin', 'Jefferson Park', 'Ashburn',    'Greater Grand Crossing', 'North Park', 'Oakland', 'Archer Heights',    'Edison Park', 'Englewood', 'Ohare', 'Brighton Park', 'Chicago Lawn',    'New City', 'South Chicago', 'Mount Greenwood', 'Montclare', 'Roseland',    'West Englewood', 'Calumet Heights', 'Auburn Gresham', 'Fuller Park',    'Avalon Park', 'Burnside', 'Clearing', 'Gage Park', 'West Pullman',    'Washington Heights', 'East Side']\n",
    "print(neighbourhood_list)"
   ]
  },
  {
   "cell_type": "code",
   "execution_count": null,
   "id": "4e475517",
   "metadata": {},
   "outputs": [],
   "source": [
    "def clean_neighbourhood(df):\n",
    "    #raise Exception(\"not yet have implementation\")\n",
    "    # do something here\n",
    "    print(\"not yet have implementation\")\n",
    "        \n",
    "    return df"
   ]
  },
  {
   "cell_type": "code",
   "execution_count": null,
   "id": "37ead1b7",
   "metadata": {},
   "outputs": [],
   "source": [
    "airbnb_pd = clean_neighbourhood(airbnb_pd)"
   ]
  },
  {
   "cell_type": "markdown",
   "id": "66975774",
   "metadata": {},
   "source": [
    "# Neighbourhood checking\n",
    "\n",
    "This query should return zero rows once you implement the cleaning process"
   ]
  },
  {
   "cell_type": "code",
   "execution_count": null,
   "id": "b53f71ec",
   "metadata": {
    "scrolled": false
   },
   "outputs": [],
   "source": [
    "neighbourhood_check = airbnb_pd[airbnb_pd.neighbourhood_flag==0]\n",
    "neighbourhood_check = neighbourhood_check[neighbourhood_check.neighbourhood.apply(lambda x:x not in neighbourhood_list)]\n",
    "neighbourhood_check[[\"id\",\"neighbourhood\"]]"
   ]
  },
  {
   "cell_type": "markdown",
   "id": "f5587b41",
   "metadata": {},
   "source": [
    "# cleanup latitude and longitude\n",
    "The latitude and longitude values in the dataset must fall within the range of -90 to +90 for latitude and -180 to +180 for longitude to ensure that they meet the criteria for analysis. We have provided a check number function to validate the latitude and longitude columns. Any values outside of these ranges should be cleaned to meet the criteria.\n",
    "\n",
    "If you are unsure what to do with a value or if it is a null value, you can flag the row for deletion by setting latitude_flag or longitude_flag to 1 or 2, respectively."
   ]
  },
  {
   "cell_type": "code",
   "execution_count": 3,
   "id": "5c4ccd37",
   "metadata": {},
   "outputs": [],
   "source": [
    "def check_number(x,start=-90,end=90):\n",
    "    try:\n",
    "        temp_x = float(x)\n",
    "        return start <= temp_x <= end\n",
    "    except:\n",
    "        return False"
   ]
  },
  {
   "cell_type": "code",
   "execution_count": null,
   "id": "0b7b5422",
   "metadata": {},
   "outputs": [],
   "source": [
    "# lat_check_pd = airbnb_pd[airbnb_pd.latitude_flag==0]\n",
    "# lat_check_pd = lat_check_pd[lat_check_pd.latitude.apply(lambda x:check_number(x,-90,90))==False]\n",
    "# for nbh in lat_check_pd[\"neighbourhood\"].unique():\n",
    "#     min_pd = airbnb_pd[[\"id\",\"latitude\", \"longitude\", \"neighbourhood\"]].copy()\n",
    "#     min_pd = min_pd[(min_pd[\"latitude\"] >= -90) & (min_pd[\"latitude\"] <= 90)]\n",
    "#     print(\"Wrong: \", lat_check_pd[lat_check_pd[\"neighbourhood\"] == nbh][[\"id\",\"latitude\", \"longitude\", \"neighbourhood\"]])\n",
    "#     print(\"Correct (avg): \", min_pd[min_pd[\"neighbourhood\"] == nbh][\"latitude\"].mean())\n",
    "#     print(\"***\"*30)"
   ]
  },
  {
   "cell_type": "code",
   "execution_count": 4,
   "id": "64e1a6ab",
   "metadata": {},
   "outputs": [],
   "source": [
    "def clean_latitude(df):\n",
    "    #raise Exception(\"not yet have implementation\")\n",
    "    # do something here\n",
    "    df[\"latitude\"] = df[\"latitude\"].apply(lambda x: x if check_number(x) else x / 10 ** (len(str(x/41.881832))-1))\n",
    "    df[\"latitude\"] = df[\"latitude\"].apply(lambda x: 1 if check_number(x) else 0)\n",
    "    return df"
   ]
  },
  {
   "cell_type": "code",
   "execution_count": 5,
   "id": "8a6b916d",
   "metadata": {},
   "outputs": [],
   "source": [
    "airbnb_pd = clean_latitude(airbnb_pd)"
   ]
  },
  {
   "cell_type": "markdown",
   "id": "97abbbf4",
   "metadata": {},
   "source": [
    "# Latitude checking\n",
    "\n",
    "This query should return zero rows once you implement the cleaning process"
   ]
  },
  {
   "cell_type": "code",
   "execution_count": 6,
   "id": "99007566",
   "metadata": {},
   "outputs": [
    {
     "data": {
      "text/html": [
       "<div>\n",
       "<style scoped>\n",
       "    .dataframe tbody tr th:only-of-type {\n",
       "        vertical-align: middle;\n",
       "    }\n",
       "\n",
       "    .dataframe tbody tr th {\n",
       "        vertical-align: top;\n",
       "    }\n",
       "\n",
       "    .dataframe thead th {\n",
       "        text-align: right;\n",
       "    }\n",
       "</style>\n",
       "<table border=\"1\" class=\"dataframe\">\n",
       "  <thead>\n",
       "    <tr style=\"text-align: right;\">\n",
       "      <th></th>\n",
       "      <th>id</th>\n",
       "      <th>latitude</th>\n",
       "      <th>longitude</th>\n",
       "      <th>neighbourhood</th>\n",
       "    </tr>\n",
       "  </thead>\n",
       "  <tbody>\n",
       "  </tbody>\n",
       "</table>\n",
       "</div>"
      ],
      "text/plain": [
       "Empty DataFrame\n",
       "Columns: [id, latitude, longitude, neighbourhood]\n",
       "Index: []"
      ]
     },
     "execution_count": 6,
     "metadata": {},
     "output_type": "execute_result"
    }
   ],
   "source": [
    "lat_check_pd = airbnb_pd[airbnb_pd.latitude_flag==0]\n",
    "lat_check_pd = lat_check_pd[lat_check_pd.latitude.apply(lambda x:check_number(x,-90,90))==False]\n",
    "lat_check_pd[[\"id\",\"latitude\", \"longitude\", \"neighbourhood\"]]"
   ]
  },
  {
   "cell_type": "code",
   "execution_count": 7,
   "id": "3c45659c",
   "metadata": {},
   "outputs": [],
   "source": [
    "def clean_longitude(df):\n",
    "    #raise Exception(\"not yet have implementation\")\n",
    "    # do something here\n",
    "    df[\"longitude\"] = df[\"longitude\"].apply(lambda x: x if check_number(x) else x / 10 ** (len(str(-x/87.623177))-1))\n",
    "    df[\"longitude_flag\"] = df[\"longitude\"].apply(lambda x: 0 if check_number(x,-180,180) else 2)\n",
    "        \n",
    "    return df"
   ]
  },
  {
   "cell_type": "code",
   "execution_count": 8,
   "id": "e0a14d1a",
   "metadata": {},
   "outputs": [],
   "source": [
    "airbnb_pd = clean_longitude(airbnb_pd)"
   ]
  },
  {
   "cell_type": "markdown",
   "id": "bf3b39b9",
   "metadata": {},
   "source": [
    "# Longitude checking\n",
    "\n",
    "This query should return zero rows once you implement the cleaning process"
   ]
  },
  {
   "cell_type": "code",
   "execution_count": 9,
   "id": "3725092c",
   "metadata": {},
   "outputs": [
    {
     "data": {
      "text/html": [
       "<div>\n",
       "<style scoped>\n",
       "    .dataframe tbody tr th:only-of-type {\n",
       "        vertical-align: middle;\n",
       "    }\n",
       "\n",
       "    .dataframe tbody tr th {\n",
       "        vertical-align: top;\n",
       "    }\n",
       "\n",
       "    .dataframe thead th {\n",
       "        text-align: right;\n",
       "    }\n",
       "</style>\n",
       "<table border=\"1\" class=\"dataframe\">\n",
       "  <thead>\n",
       "    <tr style=\"text-align: right;\">\n",
       "      <th></th>\n",
       "      <th>id</th>\n",
       "      <th>longitude</th>\n",
       "    </tr>\n",
       "  </thead>\n",
       "  <tbody>\n",
       "  </tbody>\n",
       "</table>\n",
       "</div>"
      ],
      "text/plain": [
       "Empty DataFrame\n",
       "Columns: [id, longitude]\n",
       "Index: []"
      ]
     },
     "execution_count": 9,
     "metadata": {},
     "output_type": "execute_result"
    }
   ],
   "source": [
    "lon_check_pd = airbnb_pd[airbnb_pd.longitude_flag==0]\n",
    "lon_check_pd = lon_check_pd[lon_check_pd.longitude.apply(lambda x:check_number(x,-180,180))==False]\n",
    "lon_check_pd[[\"id\",\"longitude\"]]"
   ]
  },
  {
   "cell_type": "markdown",
   "id": "29a631c5",
   "metadata": {},
   "source": [
    "# cleanup room type\n",
    "The \"room_type\" column in the dataset should contain one of the values defined in the list of allowed_room_type provided by the authority: ['Entire home/apt', 'Private room', 'Shared room', 'Hotel room']. Any value outside of this list needs to be adjusted to one of the allowed values.\n",
    "\n",
    "If you are unsure about how to adjust the value or cannot find a suitable value, you can flag the row for deletion by setting the value of room_type_flag to 1. If the \"room_type\" column has a null value and you cannot decide on an appropriate value, you can set the value of room_type_flag to 2."
   ]
  },
  {
   "cell_type": "code",
   "execution_count": null,
   "id": "3b63d052",
   "metadata": {},
   "outputs": [],
   "source": [
    "allowed_room_type = ['Entire home/apt', 'Private room', 'Shared room', 'Hotel room']"
   ]
  },
  {
   "cell_type": "code",
   "execution_count": null,
   "id": "60bc3647",
   "metadata": {},
   "outputs": [],
   "source": [
    "def clean_room_type(df):\n",
    "    #raise Exception(\"not yet have implementation\")\n",
    "    # do something here\n",
    "    print(\"not yet have implementation\")\n",
    "        \n",
    "    return df"
   ]
  },
  {
   "cell_type": "code",
   "execution_count": null,
   "id": "9986f861",
   "metadata": {},
   "outputs": [],
   "source": [
    "airbnb_pd = clean_room_type(airbnb_pd)"
   ]
  },
  {
   "cell_type": "markdown",
   "id": "f9194bc0",
   "metadata": {},
   "source": [
    "# room_type checking\n",
    "\n",
    "This query should return zero rows once you implement the cleaning process"
   ]
  },
  {
   "cell_type": "code",
   "execution_count": null,
   "id": "d52fba3a",
   "metadata": {},
   "outputs": [],
   "source": [
    "room_type_pd = airbnb_pd[airbnb_pd.room_type_flag==0]\n",
    "room_type_pd = room_type_pd[room_type_pd.room_type.apply(lambda x: x not in allowed_room_type)]\n",
    "room_type_pd[[\"id\",\"room_type\"]]"
   ]
  },
  {
   "cell_type": "markdown",
   "id": "f3bc4c4b",
   "metadata": {},
   "source": [
    "# cleanup minimum_nights and number_of_reviews\n",
    "\n",
    "The columns \"minimum_nights\" and \"number_of_reviews\" should both be integer values. \"minimum_nights\" should be a value between 1 and the number of days in a year (365), while \"number_of_reviews\" should be a value between 0 and 999999.\n",
    "\n",
    "To check if these columns meet the criteria, we have provided a \"check_integer\" function. Any values that do not meet the criteria should be cleaned to meet the criteria for analysis.\n",
    "\n",
    "If you are unsure what to do with a value or if it is a null value, you can flag the row for deletion by setting \"minimum_nights_flag\" or \"number_of_reviews_flag\" to 1 or 2, respectively."
   ]
  },
  {
   "cell_type": "code",
   "execution_count": null,
   "id": "d44af54f",
   "metadata": {},
   "outputs": [],
   "source": [
    "def check_integer(x,start=1,end=365):\n",
    "    try:\n",
    "        temp_x = int(x)\n",
    "        return start <= temp_x <= end\n",
    "    except:\n",
    "        return False"
   ]
  },
  {
   "cell_type": "code",
   "execution_count": null,
   "id": "ddef2bc3",
   "metadata": {},
   "outputs": [],
   "source": [
    "def clean_minimum_nights(df):\n",
    "    #raise Exception(\"not yet have implementation\")\n",
    "    # do something here\n",
    "    print(\"not yet have implementation\")\n",
    "        \n",
    "    return df"
   ]
  },
  {
   "cell_type": "code",
   "execution_count": null,
   "id": "4f02a671",
   "metadata": {},
   "outputs": [],
   "source": [
    "airbnb_pd = clean_minimum_nights(airbnb_pd)"
   ]
  },
  {
   "cell_type": "markdown",
   "id": "3b722c83",
   "metadata": {},
   "source": [
    "# Minimum nights checking\n",
    "\n",
    "This query should return zero rows once you implement the cleaning process"
   ]
  },
  {
   "cell_type": "code",
   "execution_count": null,
   "id": "270da5bf",
   "metadata": {},
   "outputs": [],
   "source": [
    "min_check_pd = airbnb_pd[airbnb_pd.minimum_nights_flag==0]\n",
    "min_check_pd = min_check_pd[min_check_pd.minimum_nights.apply(lambda x:check_integer(x,1,365))==False]\n",
    "min_check_pd[[\"id\",\"minimum_nights\"]]"
   ]
  },
  {
   "cell_type": "code",
   "execution_count": null,
   "id": "bcc8bf7b",
   "metadata": {},
   "outputs": [],
   "source": [
    "def clean_number_of_reviews(df):\n",
    "    #raise Exception(\"not yet have implementation\")\n",
    "    # do something here\n",
    "    print(\"not yet have implementation\")\n",
    "        \n",
    "    return df"
   ]
  },
  {
   "cell_type": "code",
   "execution_count": null,
   "id": "fb16f8bd",
   "metadata": {},
   "outputs": [],
   "source": [
    "airbnb_pd = clean_number_of_reviews(airbnb_pd)"
   ]
  },
  {
   "cell_type": "markdown",
   "id": "cfbcea56",
   "metadata": {},
   "source": [
    "# Clean number of reviews checking\n",
    "\n",
    "This query should return zero rows once you implement the cleaning process"
   ]
  },
  {
   "cell_type": "code",
   "execution_count": null,
   "id": "ba15f171",
   "metadata": {},
   "outputs": [],
   "source": [
    "min_check_pd = airbnb_pd[airbnb_pd.number_of_reviews_flag==0]\n",
    "min_check_pd = min_check_pd[min_check_pd.number_of_reviews.apply(lambda x:check_integer(x,0,999999))==False]\n",
    "min_check_pd[[\"id\",\"number_of_reviews\"]]"
   ]
  },
  {
   "cell_type": "markdown",
   "id": "3a967333",
   "metadata": {},
   "source": [
    "# cleanup last_review\n",
    "\n",
    "The \"last_review\" column should be in the format of ISO-date (yyyy-mm-dd). We have provided a \"check_date\" function to verify the date format.\n",
    "\n",
    "If a value is outside the date format or is null and you are unsure how to handle it, you can flag the row for deletion by setting the \"last_review_flag\" to 1 or 2.\n"
   ]
  },
  {
   "cell_type": "code",
   "execution_count": null,
   "id": "8b06f545",
   "metadata": {},
   "outputs": [],
   "source": [
    "from datetime import datetime\n",
    "def check_date(x,fmt=\"%Y-%m-%d\"):\n",
    "    try:\n",
    "        datetime.strptime(x,fmt)\n",
    "        return True\n",
    "    except:\n",
    "        return False"
   ]
  },
  {
   "cell_type": "code",
   "execution_count": null,
   "id": "574b018a",
   "metadata": {},
   "outputs": [],
   "source": [
    "def clean_last_reviews(df):\n",
    "    #raise Exception(\"not yet have implementation\")\n",
    "    # do something here\n",
    "    print(\"not yet have implementation\")\n",
    "        \n",
    "    return df"
   ]
  },
  {
   "cell_type": "code",
   "execution_count": null,
   "id": "c4be1223",
   "metadata": {},
   "outputs": [],
   "source": [
    "airbnb_pd = clean_last_reviews(airbnb_pd)"
   ]
  },
  {
   "cell_type": "markdown",
   "id": "0b4f052c",
   "metadata": {},
   "source": [
    "# Last Review checking\n",
    "\n",
    "This query should return zero rows once you implement the cleaning process"
   ]
  },
  {
   "cell_type": "code",
   "execution_count": null,
   "id": "d329bcbd",
   "metadata": {},
   "outputs": [],
   "source": [
    "last_review_check_pd = airbnb_pd[airbnb_pd.last_review_flag==0]\n",
    "last_review_check_pd = last_review_check_pd[last_review_check_pd.last_review.apply(lambda x:check_date(x))==False]\n",
    "last_review_check_pd[[\"id\",\"last_review\"]]"
   ]
  },
  {
   "cell_type": "markdown",
   "id": "235dfb00",
   "metadata": {},
   "source": [
    "# save the dataset to csv"
   ]
  },
  {
   "cell_type": "code",
   "execution_count": null,
   "id": "3d0530a1",
   "metadata": {},
   "outputs": [],
   "source": [
    "airbnb_pd.to_csv(\"chicago_vert_dataset_cleaned.csv\")"
   ]
  },
  {
   "cell_type": "markdown",
   "id": "fe681801",
   "metadata": {},
   "source": [
    "# columns that potentially will be used for analysis:\n",
    "id,name,host_id,host_name,neighbourhood,latitude,longitude,room_type,minimum_nights,number_of_reviews,last_review,price"
   ]
  },
  {
   "cell_type": "code",
   "execution_count": null,
   "id": "17f3006e",
   "metadata": {},
   "outputs": [],
   "source": [
    "columns_used = [\"id\",\"name\",\"host_id\",\"host_name\",\n",
    "                         \"neighbourhood\",\"latitude\",\"longitude\",\n",
    "                         \"room_type\",\"minimum_nights\",\"number_of_reviews\",\"last_review\",\"price\"]"
   ]
  },
  {
   "cell_type": "code",
   "execution_count": null,
   "id": "76cdf44d",
   "metadata": {},
   "outputs": [],
   "source": [
    "airbnb_pd[columns_used]"
   ]
  },
  {
   "cell_type": "code",
   "execution_count": null,
   "id": "eba5581d",
   "metadata": {},
   "outputs": [],
   "source": [
    "# save the csv\n"
   ]
  }
 ],
 "metadata": {
  "kernelspec": {
   "display_name": "Python 3 (ipykernel)",
   "language": "python",
   "name": "python3"
  },
  "language_info": {
   "codemirror_mode": {
    "name": "ipython",
    "version": 3
   },
   "file_extension": ".py",
   "mimetype": "text/x-python",
   "name": "python",
   "nbconvert_exporter": "python",
   "pygments_lexer": "ipython3",
   "version": "3.8.16"
  }
 },
 "nbformat": 4,
 "nbformat_minor": 5
}
